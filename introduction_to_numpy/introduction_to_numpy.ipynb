{
 "cells": [
  {
   "cell_type": "markdown",
   "metadata": {},
   "source": [
    "Before we get started with all the possibilites and power Numpy gives us, we need to install the package. You can do this by doing - <br />\n",
    "`pip install numpy` <br />\n",
    "Once that is out the way, we need to import the package. "
   ]
  },
  {
   "cell_type": "code",
   "execution_count": 1,
   "metadata": {
    "collapsed": true
   },
   "outputs": [],
   "source": [
    "import numpy as np"
   ]
  },
  {
   "cell_type": "markdown",
   "metadata": {},
   "source": [
    "First we'll take a look at standard Python lists."
   ]
  },
  {
   "cell_type": "code",
   "execution_count": 2,
   "metadata": {},
   "outputs": [
    {
     "name": "stdout",
     "output_type": "stream",
     "text": [
      "[1, 2, 3, 4, 5]\n"
     ]
    }
   ],
   "source": [
    "py_list = [1, 2, 3, 4, 5]\n",
    "print(py_list)"
   ]
  },
  {
   "cell_type": "markdown",
   "metadata": {},
   "source": [
    "This is a standard python list. There are other ways to create a list, for example you could use <br/> `range([start, ] end)`\n",
    "Not that the range is a half open interval i.e [start, end)\n"
   ]
  },
  {
   "cell_type": "code",
   "execution_count": 3,
   "metadata": {},
   "outputs": [
    {
     "name": "stdout",
     "output_type": "stream",
     "text": [
      "[1, 2, 3, 4, 5]\n"
     ]
    }
   ],
   "source": [
    "py_list = list(range(1, 6))\n",
    "print(py_list)"
   ]
  },
  {
   "cell_type": "markdown",
   "metadata": {},
   "source": [
    "Suppose you want to modify this list. Let's element wise sum all the elements in this list. \n"
   ]
  },
  {
   "cell_type": "code",
   "execution_count": 4,
   "metadata": {},
   "outputs": [
    {
     "name": "stdout",
     "output_type": "stream",
     "text": [
      "[2, 4, 6, 8, 10]\n"
     ]
    }
   ],
   "source": [
    "sum_list = [x + x for x in py_list]\n",
    "print(sum_list)"
   ]
  },
  {
   "cell_type": "markdown",
   "metadata": {},
   "source": [
    "Seems fairly simple, right? Now I'll show you how you can do this using Numpy."
   ]
  },
  {
   "cell_type": "code",
   "execution_count": 5,
   "metadata": {},
   "outputs": [
    {
     "name": "stdout",
     "output_type": "stream",
     "text": [
      "Sum  [ 2  4  6  8 10]\n"
     ]
    }
   ],
   "source": [
    "array = np.array([1, 2, 3, 4, 5])\n",
    "sums  = array + array\n",
    "\n",
    "print(\"Sum \", sums)"
   ]
  },
  {
   "cell_type": "markdown",
   "metadata": {},
   "source": [
    "With numpy you can directly operate on your array using the `+` operator. Let's see what would happen if you did the same thing with our list."
   ]
  },
  {
   "cell_type": "code",
   "execution_count": 6,
   "metadata": {},
   "outputs": [
    {
     "name": "stdout",
     "output_type": "stream",
     "text": [
      "[1, 2, 3, 4, 5, 1, 2, 3, 4, 5]\n"
     ]
    }
   ],
   "source": [
    "sum_list = py_list + py_list\n",
    "print(sum_list)"
   ]
  },
  {
   "cell_type": "markdown",
   "metadata": {},
   "source": [
    "Take a look at that, while dealing with lists, python interprets `+` as concatenate instead of addition as it does with Numpy."
   ]
  },
  {
   "cell_type": "markdown",
   "metadata": {},
   "source": [
    "Now we'll take a look at the different ways we can create a Numpy array.\n"
   ]
  },
  {
   "cell_type": "code",
   "execution_count": 7,
   "metadata": {
    "collapsed": true
   },
   "outputs": [],
   "source": [
    "array1 = np.array([1, 2, 3, 4, 5])"
   ]
  },
  {
   "cell_type": "markdown",
   "metadata": {},
   "source": [
    "This is the most basic way of creating an array, just like I've done above. But naturally you don't want to have to hardcode your array values all the time. "
   ]
  },
  {
   "cell_type": "markdown",
   "metadata": {},
   "source": [
    "Evenly spaced arrays"
   ]
  },
  {
   "cell_type": "code",
   "execution_count": 8,
   "metadata": {},
   "outputs": [
    {
     "name": "stdout",
     "output_type": "stream",
     "text": [
      "[   1.            3.02040816    5.04081633    7.06122449    9.08163265\n",
      "   11.10204082   13.12244898   15.14285714   17.16326531   19.18367347\n",
      "   21.20408163   23.2244898    25.24489796   27.26530612   29.28571429\n",
      "   31.30612245   33.32653061   35.34693878   37.36734694   39.3877551\n",
      "   41.40816327   43.42857143   45.44897959   47.46938776   49.48979592\n",
      "   51.51020408   53.53061224   55.55102041   57.57142857   59.59183673\n",
      "   61.6122449    63.63265306   65.65306122   67.67346939   69.69387755\n",
      "   71.71428571   73.73469388   75.75510204   77.7755102    79.79591837\n",
      "   81.81632653   83.83673469   85.85714286   87.87755102   89.89795918\n",
      "   91.91836735   93.93877551   95.95918367   97.97959184  100.        ]\n"
     ]
    }
   ],
   "source": [
    "evenly_spaced_array = np.linspace(1, 100)\n",
    "print(evenly_spaced_array)"
   ]
  },
  {
   "cell_type": "markdown",
   "metadata": {},
   "source": [
    "The signature for `np.linspace` is <br />\n",
    "`linspace(start, stop, num=50, endpoint=True, retstep=False)` <br />\n",
    "By default, `np.linspace` will return an array of 50 elements evenly spaced between the start and end points specified. The number of elements can be changed by changing the value of `num` in the args.\n",
    "And optional flag `retstep` can be set to `True` if you also want to space between each of the points to be returned to you. By default the end value is included in the array that is returned. This can be changed by setting `endpoint` to `False`."
   ]
  },
  {
   "cell_type": "markdown",
   "metadata": {},
   "source": [
    "Array of 1s"
   ]
  },
  {
   "cell_type": "code",
   "execution_count": 9,
   "metadata": {},
   "outputs": [
    {
     "name": "stdout",
     "output_type": "stream",
     "text": [
      "[[ 1.  1.  1.]\n",
      " [ 1.  1.  1.]\n",
      " [ 1.  1.  1.]]\n"
     ]
    }
   ],
   "source": [
    "shape = (3, 3)\n",
    "ones  = np.ones(shape)\n",
    "print(ones)"
   ]
  },
  {
   "cell_type": "markdown",
   "metadata": {},
   "source": [
    "This is how you create an array with all elements as 1. You can specify any shape you like to `np.ones`. The default type of the array in `np.float64`. This can be changed using the `dtype` parameter."
   ]
  },
  {
   "cell_type": "code",
   "execution_count": 10,
   "metadata": {},
   "outputs": [
    {
     "name": "stdout",
     "output_type": "stream",
     "text": [
      "[[1 1 1]\n",
      " [1 1 1]\n",
      " [1 1 1]]\n"
     ]
    }
   ],
   "source": [
    "ones = np.ones(shape, dtype=np.int)\n",
    "print(ones)"
   ]
  },
  {
   "cell_type": "markdown",
   "metadata": {},
   "source": [
    "Array of 0s"
   ]
  },
  {
   "cell_type": "code",
   "execution_count": 11,
   "metadata": {},
   "outputs": [
    {
     "name": "stdout",
     "output_type": "stream",
     "text": [
      "[[ 0.  0.  0.]\n",
      " [ 0.  0.  0.]\n",
      " [ 0.  0.  0.]]\n"
     ]
    }
   ],
   "source": [
    "zeros = np.zeros(shape)\n",
    "print(zeros)"
   ]
  },
  {
   "cell_type": "markdown",
   "metadata": {},
   "source": [
    "This works just like `np.ones` including the default type and the ability to change that using `dtype`."
   ]
  },
  {
   "cell_type": "markdown",
   "metadata": {},
   "source": [
    "Array of random elements"
   ]
  },
  {
   "cell_type": "code",
   "execution_count": 12,
   "metadata": {},
   "outputs": [
    {
     "name": "stdout",
     "output_type": "stream",
     "text": [
      "[[ 0.14241476  0.65512235  0.40204887  0.44648188  0.16830995  0.44692219\n",
      "   0.72425488  0.69728068  0.20228911  0.30507725]]\n"
     ]
    }
   ],
   "source": [
    "random_vals = np.random.rand(1, 10)\n",
    "print(random_vals)"
   ]
  },
  {
   "cell_type": "markdown",
   "metadata": {},
   "source": [
    "`np.random.rand(dimension1, dimension2, dimension3...)` returns an array of random samples from a uniform distribution over [0, 1). Here we don't pass the shape as a tuple but instead simple pass the dimensions as two parameters."
   ]
  },
  {
   "cell_type": "markdown",
   "metadata": {},
   "source": [
    "Array of repeating elements."
   ]
  },
  {
   "cell_type": "code",
   "execution_count": 13,
   "metadata": {},
   "outputs": [
    {
     "name": "stdout",
     "output_type": "stream",
     "text": [
      "[[1 1 1]\n",
      " [1 1 1]\n",
      " [1 1 1]]\n"
     ]
    }
   ],
   "source": [
    "repeats = np.tile(1, shape)\n",
    "print(repeats)"
   ]
  },
  {
   "cell_type": "markdown",
   "metadata": {},
   "source": [
    "Using tile, you can repeat any specified element and fill an array of any given shape. Tile need not only repeat scalar values, you could very well pass an array in place of the one."
   ]
  },
  {
   "cell_type": "code",
   "execution_count": 14,
   "metadata": {},
   "outputs": [
    {
     "name": "stdout",
     "output_type": "stream",
     "text": [
      "[[1 2 3 1 2 3]\n",
      " [1 2 3 1 2 3]]\n"
     ]
    }
   ],
   "source": [
    "arr     = np.array([1, 2, 3])\n",
    "repeats = np.tile(arr, (2, 2))\n",
    "print(repeats)"
   ]
  },
  {
   "cell_type": "markdown",
   "metadata": {},
   "source": [
    "Array attributes"
   ]
  },
  {
   "cell_type": "markdown",
   "metadata": {},
   "source": [
    "Numpy arrays have many attributes that are useful."
   ]
  },
  {
   "cell_type": "code",
   "execution_count": 15,
   "metadata": {},
   "outputs": [
    {
     "name": "stdout",
     "output_type": "stream",
     "text": [
      "(6,)\n",
      "6\n"
     ]
    }
   ],
   "source": [
    "array = np.array([1, 2, 3, 4, 5, 6])\n",
    "print(array.shape)\n",
    "print(array.size)"
   ]
  },
  {
   "cell_type": "markdown",
   "metadata": {},
   "source": [
    "My array is a one dimensional array of size 6. I can change the dimension easily."
   ]
  },
  {
   "cell_type": "code",
   "execution_count": 16,
   "metadata": {},
   "outputs": [
    {
     "name": "stdout",
     "output_type": "stream",
     "text": [
      "[[1 2 3 4 5 6]]\n"
     ]
    }
   ],
   "source": [
    "array = array.reshape((1, 6))\n",
    "print(array)"
   ]
  },
  {
   "cell_type": "code",
   "execution_count": 17,
   "metadata": {},
   "outputs": [
    {
     "name": "stdout",
     "output_type": "stream",
     "text": [
      "[[1 2 3]\n",
      " [4 5 6]]\n"
     ]
    }
   ],
   "source": [
    "array = array.reshape((2, 3))\n",
    "print(array)"
   ]
  },
  {
   "cell_type": "code",
   "execution_count": 18,
   "metadata": {},
   "outputs": [
    {
     "name": "stdout",
     "output_type": "stream",
     "text": [
      "[[1 2]\n",
      " [3 4]\n",
      " [5 6]]\n"
     ]
    }
   ],
   "source": [
    "array = array.reshape((3, -1))\n",
    "print(array)"
   ]
  },
  {
   "cell_type": "markdown",
   "metadata": {},
   "source": [
    "Using -1 in the shape allows Python to infer what the other dimension should be given one of the dimensions."
   ]
  },
  {
   "cell_type": "markdown",
   "metadata": {},
   "source": [
    "I can find the transpose of the array if I want too."
   ]
  },
  {
   "cell_type": "code",
   "execution_count": 19,
   "metadata": {},
   "outputs": [
    {
     "name": "stdout",
     "output_type": "stream",
     "text": [
      "[[1 2]\n",
      " [3 4]\n",
      " [5 6]]\n",
      "[[1 3 5]\n",
      " [2 4 6]]\n",
      "[[1 3 5]\n",
      " [2 4 6]]\n",
      "[[1 3 5]\n",
      " [2 4 6]]\n"
     ]
    }
   ],
   "source": [
    "transpose  = array.T\n",
    "transpose1 = np.transpose(array)\n",
    "transpose2 = array.transpose()\n",
    "print(array)\n",
    "print(transpose)\n",
    "print(transpose1)\n",
    "print(transpose2)"
   ]
  },
  {
   "cell_type": "markdown",
   "metadata": {},
   "source": [
    "As you can see, Numpy arrays have an attribute for the transpose `.T` along with functions defined for it."
   ]
  },
  {
   "cell_type": "markdown",
   "metadata": {},
   "source": [
    "Indexing and Slicing"
   ]
  },
  {
   "cell_type": "markdown",
   "metadata": {},
   "source": [
    "Indexing in Python works just how you'd expect it to. "
   ]
  },
  {
   "cell_type": "code",
   "execution_count": 20,
   "metadata": {},
   "outputs": [
    {
     "name": "stdout",
     "output_type": "stream",
     "text": [
      "1\n",
      "1\n"
     ]
    }
   ],
   "source": [
    "print(array[0][0])\n",
    "print(array[0, 0])\n"
   ]
  },
  {
   "cell_type": "markdown",
   "metadata": {},
   "source": [
    "Slicing"
   ]
  },
  {
   "cell_type": "code",
   "execution_count": 21,
   "metadata": {},
   "outputs": [
    {
     "name": "stdout",
     "output_type": "stream",
     "text": [
      "[[1 2 3]\n",
      " [5 6 7]]\n"
     ]
    }
   ],
   "source": [
    "array = np.array([[1, 2, 3, 4 ,5], [5, 6, 7, 8, 9], [10, 11, 12, 13, 14]])\n",
    "slice1 = array[:2, :3]\n",
    "print(slice1)"
   ]
  },
  {
   "cell_type": "markdown",
   "metadata": {},
   "source": [
    "To the left of the : is the starting index (default is 0) and to the right is the end (not included). A third value can be added for step eg. 1:10:2 (start from 1 till 10 with a step of 2) or ::2 (start to end with a step of 2)."
   ]
  },
  {
   "cell_type": "markdown",
   "metadata": {},
   "source": [
    "An important thing to remember is that slicing returns a view into the array and not a new array altogether. Any modifications on the view will result in a change in the original array."
   ]
  },
  {
   "cell_type": "code",
   "execution_count": 22,
   "metadata": {},
   "outputs": [
    {
     "name": "stdout",
     "output_type": "stream",
     "text": [
      "[[ 1  2  3  4  5]\n",
      " [ 5  6  7  8  9]\n",
      " [10 11 12 13 14]]\n",
      "[[1]]\n",
      "[[100   2   3   4   5]\n",
      " [  5   6   7   8   9]\n",
      " [ 10  11  12  13  14]]\n"
     ]
    }
   ],
   "source": [
    "print(array)\n",
    "slice1 = array[:1, :1]\n",
    "print(slice1)\n",
    "slice1[0, 0] = 100\n",
    "print(array)"
   ]
  },
  {
   "cell_type": "markdown",
   "metadata": {},
   "source": [
    "Now for one of the most important things in Numpy, broadcasting."
   ]
  },
  {
   "cell_type": "markdown",
   "metadata": {},
   "source": [
    "Imagine you have a python list and you want to add a scalar to each element. Or you have two lists of unequal sizes that you want to add. You'd need to loop over your list and add the scalar value. And for the other case you'd need to loop over both arrays and do the addition."
   ]
  },
  {
   "cell_type": "markdown",
   "metadata": {},
   "source": [
    "Numpy makes life very simple with it's broadcasting capability."
   ]
  },
  {
   "cell_type": "code",
   "execution_count": 23,
   "metadata": {},
   "outputs": [
    {
     "name": "stdout",
     "output_type": "stream",
     "text": [
      "[[ 1.  1.  1.  1.]\n",
      " [ 1.  1.  1.  1.]]\n",
      "Broadcasting with scalar\n",
      " [[ 3.  3.  3.  3.]\n",
      " [ 3.  3.  3.  3.]]\n"
     ]
    }
   ],
   "source": [
    "array = np.ones((2, 4))\n",
    "print(array)\n",
    "print(\"Broadcasting with scalar\\n\", array + 2 )"
   ]
  },
  {
   "cell_type": "markdown",
   "metadata": {},
   "source": [
    "I can even add a smaller array to this and let Numpy's broadcasting take care of the rest for me."
   ]
  },
  {
   "cell_type": "code",
   "execution_count": 24,
   "metadata": {},
   "outputs": [
    {
     "name": "stdout",
     "output_type": "stream",
     "text": [
      "[[2]\n",
      " [2]]\n"
     ]
    }
   ],
   "source": [
    "small_arr = np.tile(2, (2, 1))\n",
    "print(small_arr)"
   ]
  },
  {
   "cell_type": "markdown",
   "metadata": {},
   "source": [
    "Now to add this smaller array to the larget array"
   ]
  },
  {
   "cell_type": "code",
   "execution_count": 25,
   "metadata": {},
   "outputs": [
    {
     "name": "stdout",
     "output_type": "stream",
     "text": [
      "[[ 3.  3.  3.  3.]\n",
      " [ 3.  3.  3.  3.]]\n"
     ]
    }
   ],
   "source": [
    "print(small_arr + array)"
   ]
  },
  {
   "cell_type": "markdown",
   "metadata": {},
   "source": [
    "Et voila!"
   ]
  },
  {
   "cell_type": "markdown",
   "metadata": {},
   "source": [
    "We have the sum of the arrays. <br/>\n",
    "Just remember that there needs to be one common dimension for broadcasting to be allowed."
   ]
  },
  {
   "cell_type": "markdown",
   "metadata": {},
   "source": [
    "I'll end by doing a small comparion of the difference in speed between Numpy arrays and normal Python lists."
   ]
  },
  {
   "cell_type": "code",
   "execution_count": 26,
   "metadata": {
    "collapsed": true
   },
   "outputs": [],
   "source": [
    "import time"
   ]
  },
  {
   "cell_type": "code",
   "execution_count": 27,
   "metadata": {
    "collapsed": true
   },
   "outputs": [],
   "source": [
    "py_list  = list(range(0, 1000))\n",
    "sum_list = []\n",
    "l_start  = time.clock()\n",
    "for i in range(0, 1000):\n",
    "    sum_list = py_list[i] + py_list[i]\n",
    "l_end = time.clock()"
   ]
  },
  {
   "cell_type": "code",
   "execution_count": 28,
   "metadata": {
    "collapsed": true
   },
   "outputs": [],
   "source": [
    "array     = np.arange(0, 1000)\n",
    "np_start  = time.clock()\n",
    "sum_array = array + array\n",
    "np_end    = time.clock()"
   ]
  },
  {
   "cell_type": "code",
   "execution_count": 29,
   "metadata": {},
   "outputs": [
    {
     "name": "stdout",
     "output_type": "stream",
     "text": [
      "Time for Python List  0.0007310000000000372\n",
      "Time for Numpy array  0.00010700000000007925\n"
     ]
    }
   ],
   "source": [
    "print(\"Time for Python List \", l_end - l_start)\n",
    "print(\"Time for Numpy array \", np_end - np_start)"
   ]
  },
  {
   "cell_type": "markdown",
   "metadata": {},
   "source": [
    "This is the kind of performance benefit Numpy gives you!"
   ]
  },
  {
   "cell_type": "markdown",
   "metadata": {},
   "source": [
    "I hope everyone enjoyed this talk and starts to extensively use Numpy in their code from now on. "
   ]
  }
 ],
 "metadata": {
  "kernelspec": {
   "display_name": "Python 3",
   "language": "python",
   "name": "python3"
  },
  "language_info": {
   "codemirror_mode": {
    "name": "ipython",
    "version": 3
   },
   "file_extension": ".py",
   "mimetype": "text/x-python",
   "name": "python",
   "nbconvert_exporter": "python",
   "pygments_lexer": "ipython3",
   "version": "3.6.2"
  }
 },
 "nbformat": 4,
 "nbformat_minor": 2
}

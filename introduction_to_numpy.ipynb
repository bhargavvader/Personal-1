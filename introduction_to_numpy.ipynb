{
 "cells": [
  {
   "cell_type": "markdown",
   "metadata": {},
   "source": [
    "Before we get started with all the possibilites and power Numpy gives us, we need to install the package. You can do this by doing - <br />\n",
    "`pip install numpy` <br />\n",
    "Once that is out the way, we need to import the package. \n",
    "Before we get started with all the possibilites and power Numpy gives us, we need to install the package. You can do this by doing - <br />\n",
    "`pip install numpy` <br />\n",
    "Once that is out the way, we need to import the package. "
   ]
  },
  {
   "cell_type": "code",
   "execution_count": 2,
   "metadata": {
    "collapsed": true
   },
   "outputs": [],
   "source": [
    "import numpy as np"
   ]
  },
  {
   "cell_type": "markdown",
   "metadata": {},
   "source": [
    "First we'll take a look at standard Python lists."
   ]
  },
  {
   "cell_type": "code",
   "execution_count": 3,
   "metadata": {},
   "outputs": [
    {
     "name": "stdout",
     "output_type": "stream",
     "text": [
      "[1, 2, 3, 4, 5]\n"
     ]
    }
   ],
   "source": [
    "py_list = [1, 2, 3, 4, 5]\n",
    "print(py_list)"
   ]
  },
  {
   "cell_type": "markdown",
   "metadata": {},
   "source": [
    "This is a standard python list. There are other ways to create a list, for example you could use \n",
    "range([start, ] end) Not that the range is a half open interval i.e [start, end)"
   ]
  },
  {
   "cell_type": "code",
   "execution_count": 4,
   "metadata": {},
   "outputs": [
    {
     "name": "stdout",
     "output_type": "stream",
     "text": [
      "[1, 2, 3, 4, 5]\n"
     ]
    }
   ],
   "source": [
    "py_list = list(range(1, 6))\n",
    "print(py_list)"
   ]
  },
  {
   "cell_type": "markdown",
   "metadata": {},
   "source": [
    "Suppose you want to modify this list. Let's element wise sum all the elements in this list."
   ]
  },
  {
   "cell_type": "code",
   "execution_count": 5,
   "metadata": {},
   "outputs": [
    {
     "name": "stdout",
     "output_type": "stream",
     "text": [
      "[2, 4, 6, 8, 10]\n"
     ]
    }
   ],
   "source": [
    "sum_list = [x + x for x in py_list]\n",
    "print(sum_list)"
   ]
  },
  {
   "cell_type": "markdown",
   "metadata": {},
   "source": [
    "Seems fairly simple, right? Now I'll show you how you can do this using Numpy."
   ]
  },
  {
   "cell_type": "code",
   "execution_count": 6,
   "metadata": {},
   "outputs": [
    {
     "name": "stdout",
     "output_type": "stream",
     "text": [
      "Sum  [ 2  4  6  8 10]\n"
     ]
    }
   ],
   "source": [
    "array = np.array([1, 2, 3, 4, 5])\n",
    "sums  = array + array\n",
    "\n",
    "print(\"Sum \", sums)"
   ]
  },
  {
   "cell_type": "markdown",
   "metadata": {},
   "source": [
    "With numpy you can directly operate on your array using the + operator. Let's see what would happen if you did the same thing with our list."
   ]
  },
  {
   "cell_type": "code",
   "execution_count": 7,
   "metadata": {},
   "outputs": [
    {
     "name": "stdout",
     "output_type": "stream",
     "text": [
      "[1, 2, 3, 4, 5, 1, 2, 3, 4, 5]\n"
     ]
    }
   ],
   "source": [
    "sum_list = py_list + py_list\n",
    "print(sum_list)"
   ]
  },
  {
   "cell_type": "markdown",
   "metadata": {},
   "source": [
    "Take a look at that, while dealing with lists, python interprets + as concatenate instead of addition as it does with Numpy.\n",
    "\n",
    "Now we'll take a look at the different ways we can create a Numpy array."
   ]
  },
  {
   "cell_type": "code",
   "execution_count": 9,
   "metadata": {},
   "outputs": [
    {
     "data": {
      "text/plain": [
       "array([1, 2, 3, 4, 5])"
      ]
     },
     "execution_count": 9,
     "metadata": {},
     "output_type": "execute_result"
    }
   ],
   "source": [
    "np.array([1, 2, 3, 4, 5])"
   ]
  },
  {
   "cell_type": "markdown",
   "metadata": {},
   "source": [
    "This is the most basic way of creating an array, just like I've done above. But naturally you don't want to have to hardcode your array values all the time.\n",
    "\n",
    "Evenly spaced arrays"
   ]
  },
  {
   "cell_type": "code",
   "execution_count": 11,
   "metadata": {
    "collapsed": true
   },
   "outputs": [],
   "source": [
    "evenly_spaced_array = np.linspace(1, 100)"
   ]
  },
  {
   "cell_type": "markdown",
   "metadata": {},
   "source": [
    "The signature for np.linspace is \n",
    "linspace(start, stop, num=50, endpoint=True, retstep=False) \n",
    "By default, np.linspace will return an array of 50 elements evenly spaced between the start and end points specified. The number of elements can be changed by changing the value of num in the args. And optional flag retstep can be set to True if you also want to space between each of the points to be returned to you. By default the end value is included in the array that is returned. This can be changed by setting endpoint to False.\n",
    "\n",
    "Array of 1s"
   ]
  },
  {
   "cell_type": "code",
   "execution_count": 12,
   "metadata": {},
   "outputs": [
    {
     "name": "stdout",
     "output_type": "stream",
     "text": [
      "[[ 1.  1.  1.]\n",
      " [ 1.  1.  1.]\n",
      " [ 1.  1.  1.]]\n"
     ]
    }
   ],
   "source": [
    "shape = (3, 3)\n",
    "ones  = np.ones(shape)\n",
    "print(ones)"
   ]
  },
  {
   "cell_type": "markdown",
   "metadata": {},
   "source": [
    "This is how you create an array with all elements as 1. You can specify any shape you like to np.ones. The default type of the array in np.float64. This can be changed using the dtype parameter."
   ]
  },
  {
   "cell_type": "code",
   "execution_count": 13,
   "metadata": {},
   "outputs": [
    {
     "name": "stdout",
     "output_type": "stream",
     "text": [
      "[[1 1 1]\n",
      " [1 1 1]\n",
      " [1 1 1]]\n"
     ]
    }
   ],
   "source": [
    "ones = np.ones(shape, dtype=np.int)\n",
    "print(ones)"
   ]
  },
  {
   "cell_type": "markdown",
   "metadata": {},
   "source": [
    "Array of 0s"
   ]
  },
  {
   "cell_type": "code",
   "execution_count": 14,
   "metadata": {},
   "outputs": [
    {
     "name": "stdout",
     "output_type": "stream",
     "text": [
      "[[ 0.  0.  0.]\n",
      " [ 0.  0.  0.]\n",
      " [ 0.  0.  0.]]\n"
     ]
    }
   ],
   "source": [
    "zeros = np.zeros(shape)\n",
    "print(zeros)"
   ]
  },
  {
   "cell_type": "markdown",
   "metadata": {},
   "source": [
    "This works just like np.ones including the default type and the ability to change that using dtype.\n",
    "\n",
    "Array of random elements"
   ]
  },
  {
   "cell_type": "code",
   "execution_count": 16,
   "metadata": {},
   "outputs": [
    {
     "name": "stdout",
     "output_type": "stream",
     "text": [
      "[[ 0.23249468  0.53527557  0.76026776  0.43420799  0.83044999  0.11289818\n",
      "   0.42198325  0.73897097  0.3889813   0.58165051]]\n"
     ]
    }
   ],
   "source": [
    "random_vals = np.random.rand(1, 10)\n",
    "print(random_vals)"
   ]
  },
  {
   "cell_type": "markdown",
   "metadata": {},
   "source": [
    "np.random.rand(dimension1, dimension2, dimension3...) returns an array of random samples from a uniform distribution over [0, 1). Here we don't pass the shape as a tuple but instead simple pass the dimensions as two parameters.\n",
    "<br><br>Array of repeating elements."
   ]
  },
  {
   "cell_type": "code",
   "execution_count": 18,
   "metadata": {},
   "outputs": [
    {
     "name": "stdout",
     "output_type": "stream",
     "text": [
      "[[1 1 1]\n",
      " [1 1 1]\n",
      " [1 1 1]]\n"
     ]
    }
   ],
   "source": [
    "repeats = np.tile(1, shape)\n",
    "print(repeats)"
   ]
  },
  {
   "cell_type": "markdown",
   "metadata": {},
   "source": [
    "Using tile, you can repeat any specified element and fill an array of any given shape. Tile need not only repeat scalar values, you could very well pass an array in place of the one."
   ]
  },
  {
   "cell_type": "code",
   "execution_count": 19,
   "metadata": {},
   "outputs": [
    {
     "name": "stdout",
     "output_type": "stream",
     "text": [
      "[[1 2 3 1 2 3]\n",
      " [1 2 3 1 2 3]]\n"
     ]
    }
   ],
   "source": [
    "arr     = np.array([1, 2, 3])\n",
    "repeats = np.tile(arr, (2, 2))\n",
    "print(repeats)"
   ]
  },
  {
   "cell_type": "markdown",
   "metadata": {},
   "source": [
    "Array attributes\n",
    "\n",
    "Numpy arrays have many attributes that are useful."
   ]
  },
  {
   "cell_type": "code",
   "execution_count": 20,
   "metadata": {},
   "outputs": [
    {
     "name": "stdout",
     "output_type": "stream",
     "text": [
      "(6,)\n",
      "6\n"
     ]
    }
   ],
   "source": [
    "array = np.array([1, 2, 3, 4, 5, 6])\n",
    "print(array.shape)\n",
    "print(array.size)"
   ]
  },
  {
   "cell_type": "markdown",
   "metadata": {},
   "source": [
    "My array is a one dimensional array of size 6. I can change the dimension easily."
   ]
  },
  {
   "cell_type": "code",
   "execution_count": 21,
   "metadata": {},
   "outputs": [
    {
     "name": "stdout",
     "output_type": "stream",
     "text": [
      "[[1 2 3 4 5 6]]\n"
     ]
    }
   ],
   "source": [
    "array = array.reshape((1, 6))\n",
    "print(array)"
   ]
  },
  {
   "cell_type": "code",
   "execution_count": 22,
   "metadata": {},
   "outputs": [
    {
     "name": "stdout",
     "output_type": "stream",
     "text": [
      "[[1 2 3]\n",
      " [4 5 6]]\n"
     ]
    }
   ],
   "source": [
    "array = array.reshape((2, 3))\n",
    "print(array)"
   ]
  },
  {
   "cell_type": "code",
   "execution_count": 23,
   "metadata": {},
   "outputs": [
    {
     "name": "stdout",
     "output_type": "stream",
     "text": [
      "[[1 2]\n",
      " [3 4]\n",
      " [5 6]]\n"
     ]
    }
   ],
   "source": [
    "array = array.reshape((3, -1))\n",
    "print(array)"
   ]
  },
  {
   "cell_type": "markdown",
   "metadata": {},
   "source": [
    "Using -1 in the shape allows Python to infer what the other dimension should be given one of the dimensions.\n",
    "\n",
    "I can find the transpose of the array if I want too."
   ]
  },
  {
   "cell_type": "code",
   "execution_count": 24,
   "metadata": {},
   "outputs": [
    {
     "name": "stdout",
     "output_type": "stream",
     "text": [
      "[[1 2]\n",
      " [3 4]\n",
      " [5 6]]\n",
      "[[1 3 5]\n",
      " [2 4 6]]\n",
      "[[1 3 5]\n",
      " [2 4 6]]\n",
      "[[1 3 5]\n",
      " [2 4 6]]\n"
     ]
    }
   ],
   "source": [
    "transpose  = array.T\n",
    "transpose1 = np.transpose(array)\n",
    "transpose2 = array.transpose()\n",
    "print(array)\n",
    "print(transpose)\n",
    "print(transpose1)\n",
    "print(transpose2)"
   ]
  },
  {
   "cell_type": "markdown",
   "metadata": {},
   "source": [
    "As you can see, Numpy arrays have an attribute for the transpose .T along with functions defined for it.\n",
    "\n",
    "Indexing and Slicing\n",
    "\n",
    "Indexing in Python works just how you'd expect it to."
   ]
  },
  {
   "cell_type": "code",
   "execution_count": 25,
   "metadata": {},
   "outputs": [
    {
     "name": "stdout",
     "output_type": "stream",
     "text": [
      "1\n",
      "1\n"
     ]
    }
   ],
   "source": [
    "print(array[0][0])\n",
    "print(array[0, 0])"
   ]
  },
  {
   "cell_type": "markdown",
   "metadata": {},
   "source": [
    "Slicing"
   ]
  },
  {
   "cell_type": "code",
   "execution_count": 26,
   "metadata": {},
   "outputs": [
    {
     "name": "stdout",
     "output_type": "stream",
     "text": [
      "[[1 2 3]\n",
      " [5 6 7]]\n"
     ]
    }
   ],
   "source": [
    "array = np.array([[1, 2, 3, 4 ,5], [5, 6, 7, 8, 9], [10, 11, 12, 13, 14]])\n",
    "slice1 = array[:2, :3]\n",
    "print(slice1)"
   ]
  },
  {
   "cell_type": "markdown",
   "metadata": {},
   "source": [
    "To the left of the : is the starting index (default is 0) and to the right is the end (not included). A third value can be added for step eg. 1:10:2 (start from 1 till 10 with a step of 2) or ::2 (start to end with a step of 2).\n",
    "\n",
    "An important thing to remember is that slicing returns a view into the array and not a new array altogether. Any modifications on the view will result in a change in the original array."
   ]
  },
  {
   "cell_type": "code",
   "execution_count": 27,
   "metadata": {},
   "outputs": [
    {
     "name": "stdout",
     "output_type": "stream",
     "text": [
      "[[ 1  2  3  4  5]\n",
      " [ 5  6  7  8  9]\n",
      " [10 11 12 13 14]]\n",
      "[[1]]\n",
      "[[100   2   3   4   5]\n",
      " [  5   6   7   8   9]\n",
      " [ 10  11  12  13  14]]\n"
     ]
    }
   ],
   "source": [
    "print(array)\n",
    "slice1 = array[:1, :1]\n",
    "print(slice1)\n",
    "slice1[0, 0] = 100\n",
    "print(array)"
   ]
  },
  {
   "cell_type": "markdown",
   "metadata": {},
   "source": [
    "Now for one of the most important things in Numpy, broadcasting.\n",
    "\n",
    "Imagine you have a python list and you want to add a scalar to each element. Or you have two lists of unequal sizes that you want to add. You'd need to loop over your list and add the scalar value. And for the other case you'd need to loop over both arrays and do the addition.\n",
    "\n",
    "Numpy makes life very simple with it's broadcasting capability."
   ]
  },
  {
   "cell_type": "code",
   "execution_count": 28,
   "metadata": {},
   "outputs": [
    {
     "name": "stdout",
     "output_type": "stream",
     "text": [
      "[[ 1.  1.  1.  1.]\n",
      " [ 1.  1.  1.  1.]]\n",
      "Broadcasting with scalar\n",
      " [[ 3.  3.  3.  3.]\n",
      " [ 3.  3.  3.  3.]]\n"
     ]
    }
   ],
   "source": [
    "array = np.ones((2, 4))\n",
    "print(array)\n",
    "print(\"Broadcasting with scalar\\n\", array + 2 )"
   ]
  },
  {
   "cell_type": "markdown",
   "metadata": {},
   "source": [
    "\n",
    "I can even add a smaller array to this and let Numpy's broadcasting take care of the rest for me."
   ]
  },
  {
   "cell_type": "code",
   "execution_count": 30,
   "metadata": {},
   "outputs": [
    {
     "name": "stdout",
     "output_type": "stream",
     "text": [
      "[[2]\n",
      " [2]]\n"
     ]
    }
   ],
   "source": [
    "small_arr = np.tile(2, (2, 1))\n",
    "print(small_arr)"
   ]
  },
  {
   "cell_type": "markdown",
   "metadata": {},
   "source": [
    "Now to add this smaller array to the larger array"
   ]
  },
  {
   "cell_type": "code",
   "execution_count": 31,
   "metadata": {},
   "outputs": [
    {
     "name": "stdout",
     "output_type": "stream",
     "text": [
      "[[ 3.  3.  3.  3.]\n",
      " [ 3.  3.  3.  3.]]\n"
     ]
    }
   ],
   "source": [
    "print(small_arr + array)"
   ]
  },
  {
   "cell_type": "markdown",
   "metadata": {},
   "source": [
    "Et voila!\n",
    "\n",
    "We have the sum of the arrays. \n",
    "Just remember that there needs to be one common dimension for broadcasting to be allowed.\n",
    "\n",
    "I'll end by doing a small comparion of the difference in speed between Numpy arrays and normal Python lists."
   ]
  },
  {
   "cell_type": "code",
   "execution_count": 32,
   "metadata": {
    "collapsed": true
   },
   "outputs": [],
   "source": [
    "import time"
   ]
  },
  {
   "cell_type": "code",
   "execution_count": 34,
   "metadata": {},
   "outputs": [],
   "source": [
    "py_list  = list(range(0, 1000))\n",
    "sum_list = []\n",
    "l_start  = time.clock()\n",
    "for i in range(0, 1000):\n",
    "    sum_list = py_list[i] + py_list[i]\n",
    "l_end = time.clock()"
   ]
  },
  {
   "cell_type": "code",
   "execution_count": 35,
   "metadata": {},
   "outputs": [
    {
     "name": "stdout",
     "output_type": "stream",
     "text": [
      "Time for Python List  0.0011309999999999931\n",
      "Time for Numpy array  0.00014899999999995472\n"
     ]
    }
   ],
   "source": [
    "array     = np.arange(0, 1000)\n",
    "np_start  = time.clock()\n",
    "sum_array = array + array\n",
    "np_end    = time.clock()\n",
    "\n",
    "\n",
    "print(\"Time for Python List \", l_end - l_start)\n",
    "print(\"Time for Numpy array \", np_end - np_start)"
   ]
  },
  {
   "cell_type": "markdown",
   "metadata": {},
   "source": [
    "\n",
    "This is the kind of performance benefit Numpy gives you!\n",
    "\n",
    "I hope everyone enjoyed this talk and starts to extensively use Numpy in their code from now on.\n"
   ]
  },
  {
   "cell_type": "code",
   "execution_count": null,
   "metadata": {
    "collapsed": true
   },
   "outputs": [],
   "source": []
  }
 ],
 "metadata": {
  "kernelspec": {
   "display_name": "Python 3",
   "language": "python",
   "name": "python3"
  },
  "language_info": {
   "codemirror_mode": {
    "name": "ipython",
    "version": 3
   },
   "file_extension": ".py",
   "mimetype": "text/x-python",
   "name": "python",
   "nbconvert_exporter": "python",
   "pygments_lexer": "ipython3",
   "version": "3.6.2"
  }
 },
 "nbformat": 4,
 "nbformat_minor": 2
}
